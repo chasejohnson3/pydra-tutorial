{
 "cells": [
  {
   "cell_type": "code",
   "execution_count": 7,
   "metadata": {},
   "outputs": [
    {
     "name": "stdout",
     "output_type": "stream",
     "text": [
      "Result(output=Output(t1=['subject1.nii.gz', 'subject2.nii.gz'], output=['subject1.nii.gz_append', 'subject2.nii.gz_append'], output_not_cached=['subject1.nii.gz_append_append', 'subject2.nii.gz_append_append']), runtime=None, errored=False)\n"
     ]
    }
   ],
   "source": [
    "import pydra\n",
    "import nest_asyncio\n",
    "nest_asyncio.apply()\n",
    "\n",
    "@pydra.mark.task\n",
    "def get_subject(sub):\n",
    "    return sub\n",
    "\n",
    "@pydra.mark.task\n",
    "def append(t1):\n",
    "    return t1 + \"_append\"\n",
    "\n",
    "\n",
    "t1_list = [\"subject1.nii.gz\", \"subject2.nii.gz\"]\n",
    "\n",
    "outer = pydra.Workflow(name=\"outer\", input_spec=[\"t1_list\"], t1_list=t1_list)\n",
    "\n",
    "\n",
    "source_node = pydra.Workflow(name=\"source_node\", input_spec=[\"t1_list\"])#, t1_list=outer.lzin.t1_list)\n",
    "source_node.split(\"t1_list\", t1_list=outer.lzin.t1_list)\n",
    "source_node.add(get_subject(name=\"get_subject\", sub=source_node.lzin.t1_list))\n",
    "source_node.set_output([(\"t1\", source_node.get_subject.lzout.out)])\n",
    "\n",
    "wf = pydra.Workflow(name=\"wf\", input_spec=[\"t1\"], t1=source_node.lzout.t1)\n",
    "wf.add(append(name=\"append\", t1=wf.lzin.t1))\n",
    "wf.set_output([(\"output_in_cache\", wf.append.lzout.out)])\n",
    "\n",
    "sink_node = pydra.Workflow(name=\"sink_node\", input_spec=[\"output_in_cache\"], output_in_cache=wf.lzout.output_in_cache)\n",
    "sink_node.add(append(name=\"append\", t1=sink_node.lzin.output_in_cache))\n",
    "sink_node.set_output([(\"output_not_in_cache\", sink_node.append.lzout.out)])\n",
    "\n",
    "\n",
    "outer.add(source_node)\n",
    "outer.add(wf)\n",
    "outer.add(sink_node)\n",
    "outer.set_output([(\"t1\", outer.source_node.lzout.t1),\n",
    "                  (\"output\", outer.wf.lzout.output_in_cache),\n",
    "                  (\"output_not_cached\", outer.sink_node.lzout.output_not_in_cache)])\n",
    "\n",
    "\n",
    "\n",
    "# with pydra.Submitter(plugin=\"cf\") as sub:\n",
    "#     sub(source_node)\n",
    "# result=source_node.result()\n",
    "with pydra.Submitter(plugin=\"cf\") as sub:\n",
    "    sub(outer)\n",
    "result=outer.result()\n",
    "print(result)\n",
    "\n"
   ]
  },
  {
   "cell_type": "code",
   "execution_count": null,
   "metadata": {},
   "outputs": [],
   "source": []
  }
 ],
 "metadata": {
  "kernelspec": {
   "display_name": "Python 3",
   "language": "python",
   "name": "python3"
  },
  "language_info": {
   "codemirror_mode": {
    "name": "ipython",
    "version": 3
   },
   "file_extension": ".py",
   "mimetype": "text/x-python",
   "name": "python",
   "nbconvert_exporter": "python",
   "pygments_lexer": "ipython3",
   "version": "3.8.0"
  }
 },
 "nbformat": 4,
 "nbformat_minor": 4
}
